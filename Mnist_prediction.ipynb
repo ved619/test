{
  "nbformat": 4,
  "nbformat_minor": 0,
  "metadata": {
    "colab": {
      "name": "Mnist_prediction.ipynb",
      "provenance": [],
      "collapsed_sections": [],
      "authorship_tag": "ABX9TyM4nb5s3NmQNHhUv1EEf8eF",
      "include_colab_link": true
    },
    "kernelspec": {
      "name": "python3",
      "display_name": "Python 3"
    },
    "language_info": {
      "name": "python"
    }
  },
  "cells": [
    {
      "cell_type": "markdown",
      "metadata": {
        "id": "view-in-github",
        "colab_type": "text"
      },
      "source": [
        "<a href=\"https://colab.research.google.com/github/ved619/test/blob/main/Mnist_prediction.ipynb\" target=\"_parent\"><img src=\"https://colab.research.google.com/assets/colab-badge.svg\" alt=\"Open In Colab\"/></a>"
      ]
    },
    {
      "cell_type": "code",
      "metadata": {
        "id": "6PbuivOsgYqY"
      },
      "source": [
        "import numpy as np\n",
        "import pandas as pd\n",
        "import random\n",
        "import matplotlib.pyplot as plt\n",
        "from sklearn import model_selection\n",
        "from sklearn.neighbors import NearestNeighbors\n",
        "from sklearn.neighbors import KNeighborsClassifier\n",
        "from sklearn.metrics import accuracy_score\n",
        "from sklearn.model_selection import train_test_split\n",
        "from sklearn.cluster import KMeans"
      ],
      "execution_count": null,
      "outputs": []
    },
    {
      "cell_type": "code",
      "metadata": {
        "id": "TEfwxQ9Bg5AI"
      },
      "source": [
        "data_set=pd.read_csv(\"/content/sample_data/mnist_train_small.csv\")"
      ],
      "execution_count": null,
      "outputs": []
    },
    {
      "cell_type": "code",
      "metadata": {
        "colab": {
          "base_uri": "https://localhost:8080/"
        },
        "id": "l_478UJ_hFDN",
        "outputId": "6a31d78a-2c15-44e7-f52d-ee542f0dc062"
      },
      "source": [
        "data_set.shape"
      ],
      "execution_count": null,
      "outputs": [
        {
          "output_type": "execute_result",
          "data": {
            "text/plain": [
              "(19999, 785)"
            ]
          },
          "metadata": {
            "tags": []
          },
          "execution_count": 5
        }
      ]
    },
    {
      "cell_type": "code",
      "metadata": {
        "id": "oKx11Pdth0m_"
      },
      "source": [
        "train,test=train_test_split(data_set,test_size=0.2)\n"
      ],
      "execution_count": null,
      "outputs": []
    },
    {
      "cell_type": "code",
      "metadata": {
        "colab": {
          "base_uri": "https://localhost:8080/"
        },
        "id": "-pMhK6OyiOg8",
        "outputId": "0141dec5-9dfa-4ff6-b19d-55e4f9452d20"
      },
      "source": [
        "print(train)\n",
        "print(test)"
      ],
      "execution_count": null,
      "outputs": [
        {
          "output_type": "stream",
          "text": [
            "       6  0  0.1  0.2  0.3  0.4  ...  0.585  0.586  0.587  0.588  0.589  0.590\n",
            "18897  0  0    0    0    0    0  ...      0      0      0      0      0      0\n",
            "8047   4  0    0    0    0    0  ...      0      0      0      0      0      0\n",
            "14791  0  0    0    0    0    0  ...      0      0      0      0      0      0\n",
            "3943   9  0    0    0    0    0  ...      0      0      0      0      0      0\n",
            "2135   7  0    0    0    0    0  ...      0      0      0      0      0      0\n",
            "...   .. ..  ...  ...  ...  ...  ...    ...    ...    ...    ...    ...    ...\n",
            "15190  9  0    0    0    0    0  ...      0      0      0      0      0      0\n",
            "15667  1  0    0    0    0    0  ...      0      0      0      0      0      0\n",
            "12197  8  0    0    0    0    0  ...      0      0      0      0      0      0\n",
            "7086   0  0    0    0    0    0  ...      0      0      0      0      0      0\n",
            "11020  3  0    0    0    0    0  ...      0      0      0      0      0      0\n",
            "\n",
            "[15999 rows x 785 columns]\n",
            "       6  0  0.1  0.2  0.3  0.4  ...  0.585  0.586  0.587  0.588  0.589  0.590\n",
            "19687  2  0    0    0    0    0  ...      0      0      0      0      0      0\n",
            "4954   7  0    0    0    0    0  ...      0      0      0      0      0      0\n",
            "15386  2  0    0    0    0    0  ...      0      0      0      0      0      0\n",
            "18463  2  0    0    0    0    0  ...      0      0      0      0      0      0\n",
            "16625  6  0    0    0    0    0  ...      0      0      0      0      0      0\n",
            "...   .. ..  ...  ...  ...  ...  ...    ...    ...    ...    ...    ...    ...\n",
            "6414   8  0    0    0    0    0  ...      0      0      0      0      0      0\n",
            "14892  3  0    0    0    0    0  ...      0      0      0      0      0      0\n",
            "8422   7  0    0    0    0    0  ...      0      0      0      0      0      0\n",
            "15389  0  0    0    0    0    0  ...      0      0      0      0      0      0\n",
            "8230   7  0    0    0    0    0  ...      0      0      0      0      0      0\n",
            "\n",
            "[4000 rows x 785 columns]\n"
          ],
          "name": "stdout"
        }
      ]
    },
    {
      "cell_type": "code",
      "metadata": {
        "colab": {
          "base_uri": "https://localhost:8080/"
        },
        "id": "L55mADY3i6G2",
        "outputId": "12218c80-3b4c-4477-c141-40fa264d7684"
      },
      "source": [
        "print(data_set.head())"
      ],
      "execution_count": null,
      "outputs": [
        {
          "output_type": "stream",
          "text": [
            "   6  0  0.1  0.2  0.3  0.4  ...  0.585  0.586  0.587  0.588  0.589  0.590\n",
            "0  5  0    0    0    0    0  ...      0      0      0      0      0      0\n",
            "1  7  0    0    0    0    0  ...      0      0      0      0      0      0\n",
            "2  9  0    0    0    0    0  ...      0      0      0      0      0      0\n",
            "3  5  0    0    0    0    0  ...      0      0      0      0      0      0\n",
            "4  2  0    0    0    0    0  ...      0      0      0      0      0      0\n",
            "\n",
            "[5 rows x 785 columns]\n"
          ],
          "name": "stdout"
        }
      ]
    },
    {
      "cell_type": "code",
      "metadata": {
        "id": "XONsHWGnku5S"
      },
      "source": [
        "xtrain=train.iloc[:,1:]\n",
        "xtest=test.iloc[:,1:]"
      ],
      "execution_count": null,
      "outputs": []
    },
    {
      "cell_type": "code",
      "metadata": {
        "id": "R7Iot3thtfU9"
      },
      "source": [
        "ytrain=train.iloc[:,0]\n",
        "ytest=test.iloc[:,0]"
      ],
      "execution_count": null,
      "outputs": []
    },
    {
      "cell_type": "code",
      "metadata": {
        "colab": {
          "base_uri": "https://localhost:8080/",
          "height": 284
        },
        "id": "brTE2I_G7GUr",
        "outputId": "77f83f60-6a46-4309-fd28-87a0a6618449"
      },
      "source": [
        "r=random.randint(0,4000)\n",
        "random_dig=xtest.iloc[r]\n",
        "random_dig_image=random_dig.values.reshape(28,28) #reshaping to plot\n",
        "plt.imshow(random_dig_image,cmap=\"gray\")"
      ],
      "execution_count": null,
      "outputs": [
        {
          "output_type": "execute_result",
          "data": {
            "text/plain": [
              "<matplotlib.image.AxesImage at 0x7fc03e15af90>"
            ]
          },
          "metadata": {
            "tags": []
          },
          "execution_count": 115
        },
        {
          "output_type": "display_data",
          "data": {
            "image/png": "[encoded data removed]",
            "text/plain": [
              "<Figure size 432x288 with 1 Axes>"
            ]
          },
          "metadata": {
            "tags": [],
            "needs_background": "light"
          }
        }
      ]
    },
    {
      "cell_type": "code",
      "metadata": {
        "colab": {
          "base_uri": "https://localhost:8080/"
        },
        "id": "olm0jywO9aRp",
        "outputId": "c83a5477-4f4a-4955-e286-934a42c0c2a3"
      },
      "source": [
        "knn=KNeighborsClassifier(n_neighbors=1)\n",
        "knn.fit(xtrain,ytrain)"
      ],
      "execution_count": null,
      "outputs": [
        {
          "output_type": "execute_result",
          "data": {
            "text/plain": [
              "KNeighborsClassifier(algorithm='auto', leaf_size=30, metric='minkowski',\n",
              "                     metric_params=None, n_jobs=None, n_neighbors=1, p=2,\n",
              "                     weights='uniform')"
            ]
          },
          "metadata": {
            "tags": []
          },
          "execution_count": 89
        }
      ]
    },
    {
      "cell_type": "code",
      "metadata": {
        "colab": {
          "base_uri": "https://localhost:8080/"
        },
        "id": "gqv_dLEZ_n_h",
        "outputId": "ec848b6e-622e-48ff-ea40-b696ef6da64e"
      },
      "source": [
        "knn.score(xtest,ytest)"
      ],
      "execution_count": null,
      "outputs": [
        {
          "output_type": "execute_result",
          "data": {
            "text/plain": [
              "0.964"
            ]
          },
          "metadata": {
            "tags": []
          },
          "execution_count": 90
        }
      ]
    },
    {
      "cell_type": "code",
      "metadata": {
        "colab": {
          "base_uri": "https://localhost:8080/"
        },
        "id": "_Odj4m8jAE94",
        "outputId": "0bb4c6ef-98b4-4a8e-dbb1-3056cd77855c"
      },
      "source": [
        "predict=knn.predict([random_dig])\n",
        "print(predict)"
      ],
      "execution_count": null,
      "outputs": [
        {
          "output_type": "stream",
          "text": [
            "[2]\n"
          ],
          "name": "stdout"
        }
      ]
    },
    {
      "cell_type": "code",
      "metadata": {
        "id": "tLFDpSkwXhg6"
      },
      "source": [
        "distortions = []\n",
        "for k in range(1,10):\n",
        "    kmeanModel = KMeans(n_clusters=k)\n",
        "    kmeanModel.fit(xtrain)\n",
        "    distortions.append(kmeanModel.inertia_)"
      ],
      "execution_count": null,
      "outputs": []
    },
    {
      "cell_type": "markdown",
      "metadata": {
        "id": "hsITu1bmlAIr"
      },
      "source": [
        "**Elbow Curve**"
      ]
    },
    {
      "cell_type": "code",
      "metadata": {
        "colab": {
          "base_uri": "https://localhost:8080/",
          "height": 350
        },
        "id": "q6PgkQURfkpd",
        "outputId": "93195103-1053-4575-939e-4ebf5edb10fe"
      },
      "source": [
        "plt.figure(figsize=(5,5))\n",
        "plt.plot(K, distortions, 'bx-')\n",
        "plt.xlabel('k')\n",
        "plt.ylabel('Distortion')\n",
        "plt.title('Elbow method for optimal k')\n",
        "plt.show()"
      ],
      "execution_count": null,
      "outputs": [
        {
          "output_type": "display_data",
          "data": {
            "image/png": "[encoded data removed]",
            "text/plain": [
              "<Figure size 360x360 with 1 Axes>"
            ]
          },
          "metadata": {
            "tags": [],
            "needs_background": "light"
          }
        }
      ]
    },
    {
      "cell_type": "code",
      "metadata": {
        "id": "SpuftyJLftXV"
      },
      "source": [
        "acc=[]\n",
        "for x in range(1,5):\n",
        "  m=KNeighborsClassifier(n_neighbors=x)\n",
        "  m.fit(xtrain,ytrain)\n",
        "  acc.append(knn.score(xtest,ytest))"
      ],
      "execution_count": null,
      "outputs": []
    },
    {
      "cell_type": "code",
      "metadata": {
        "id": "gJinUEpsFx4h"
      },
      "source": [
        ""
      ],
      "execution_count": null,
      "outputs": []
    }
  ]
}